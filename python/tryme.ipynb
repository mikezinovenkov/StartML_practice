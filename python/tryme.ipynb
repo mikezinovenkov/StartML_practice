{
 "cells": [
  {
   "cell_type": "code",
   "execution_count": 13,
   "metadata": {},
   "outputs": [],
   "source": [
    "import requests\n",
    "import bs4"
   ]
  },
  {
   "cell_type": "code",
   "execution_count": 14,
   "metadata": {},
   "outputs": [
    {
     "data": {
      "text/plain": [
       "'\\n\\nblock почему-то показывается пустым, хотя судя по коду страниц РБК и Ленты это не так\\n\\n'"
      ]
     },
     "execution_count": 14,
     "metadata": {},
     "output_type": "execute_result"
    }
   ],
   "source": [
    "'''\n",
    "\n",
    "block почему-то показывается пустым, хотя судя по коду страниц РБК и Ленты это не так\n",
    "\n",
    "'''"
   ]
  },
  {
   "cell_type": "code",
   "execution_count": 15,
   "metadata": {},
   "outputs": [
    {
     "data": {
      "text/plain": [
       "<div class=\"b-search__list js-search__list\"></div>"
      ]
     },
     "execution_count": 15,
     "metadata": {},
     "output_type": "execute_result"
    }
   ],
   "source": [
    "url = 'https://lenta.ru/search?query=МТС#size=10|sort=2|title_only=true|domain=1|modified,format=yyyy-MM-dd|type=1|modified,from=2006-01-01|modified,to=2022-12-30|bloc=4'\n",
    "response = requests.get(url).text\n",
    "\n",
    "soup = bs4.BeautifulSoup(response, 'html.parser')\n",
    "block = soup.find('div', class_ = 'b-search__list js-search__list')\n",
    "table_title = block.find_all('div', class_ = 'b-search__result-item-title')\n",
    "table_text = block.find_all('div', class_ = 'b-search__result-item-snippet')\n",
    "\n",
    "block"
   ]
  },
  {
   "cell_type": "code",
   "execution_count": 16,
   "metadata": {},
   "outputs": [
    {
     "data": {
      "text/plain": [
       "<div class=\"l-row g-overflow js-search-container\">\n",
       "</div>"
      ]
     },
     "execution_count": 16,
     "metadata": {},
     "output_type": "execute_result"
    }
   ],
   "source": [
    "url = 'https://www.rbc.ru/tags/?tag=МТС&project=rbcnews'\n",
    "response = requests.get(url).text\n",
    "\n",
    "soup = bs4.BeautifulSoup(response, 'html.parser')\n",
    "block = soup.find('div', class_ = 'l-row g-overflow js-search-container')\n",
    "table_title = block.find_all('span', class_='search-item__title')\n",
    "table_text = block.find_all('span', class_='search-item__text')\n",
    "\n",
    "block"
   ]
  }
 ],
 "metadata": {
  "interpreter": {
   "hash": "6e546691516807557703c084d579030abf938edf2df8fd39f76172b7e3d0acce"
  },
  "kernelspec": {
   "display_name": "Python 3.8.15",
   "language": "python",
   "name": "python3"
  },
  "language_info": {
   "codemirror_mode": {
    "name": "ipython",
    "version": 3
   },
   "file_extension": ".py",
   "mimetype": "text/x-python",
   "name": "python",
   "nbconvert_exporter": "python",
   "pygments_lexer": "ipython3",
   "version": "3.8.15"
  },
  "orig_nbformat": 4
 },
 "nbformat": 4,
 "nbformat_minor": 2
}
