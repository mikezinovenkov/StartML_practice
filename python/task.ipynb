{
 "cells": [
  {
   "cell_type": "code",
   "execution_count": 1,
   "metadata": {},
   "outputs": [],
   "source": [
    "s = \"A man, a plan, a canal: Panama\""
   ]
  },
  {
   "cell_type": "code",
   "execution_count": 2,
   "metadata": {},
   "outputs": [],
   "source": [
    "s = s.replace(\"[^\\\\da-zA-Zа-яёА-ЯЁ ]\", \"\")"
   ]
  },
  {
   "cell_type": "code",
   "execution_count": 3,
   "metadata": {},
   "outputs": [
    {
     "data": {
      "text/plain": [
       "'A man, a plan, a canal: Panama'"
      ]
     },
     "execution_count": 3,
     "metadata": {},
     "output_type": "execute_result"
    }
   ],
   "source": [
    "s"
   ]
  },
  {
   "cell_type": "code",
   "execution_count": 41,
   "metadata": {},
   "outputs": [],
   "source": [
    "tasks = {1 : ['Полить цветы','Забрать посылку'], \n",
    "        0 : ['Покормить кота'], \n",
    "        2 : ['Почитать книгу по программированию'],\n",
    "        3 : ['Ответить на письмо двоюродной тети'] \n",
    "        }"
   ]
  },
  {
   "cell_type": "code",
   "execution_count": 43,
   "metadata": {},
   "outputs": [
    {
     "data": {
      "text/plain": [
       "['Полить цветы', 'Забрать посылку']"
      ]
     },
     "execution_count": 43,
     "metadata": {},
     "output_type": "execute_result"
    }
   ],
   "source": [
    "tasks[1]"
   ]
  },
  {
   "cell_type": "code",
   "execution_count": 56,
   "metadata": {},
   "outputs": [
    {
     "name": "stdout",
     "output_type": "stream",
     "text": [
      "есть дела\n"
     ]
    }
   ],
   "source": [
    "if 1 in tasks:\n",
    "    print('есть дела')\n",
    "else:\n",
    "    print('нет дел')"
   ]
  },
  {
   "cell_type": "code",
   "execution_count": 59,
   "metadata": {},
   "outputs": [
    {
     "name": "stdout",
     "output_type": "stream",
     "text": [
      "1\n",
      "0\n",
      "2\n",
      "3\n"
     ]
    }
   ],
   "source": [
    "for i in tasks:\n",
    "    print(i)"
   ]
  },
  {
   "cell_type": "code",
   "execution_count": 69,
   "metadata": {},
   "outputs": [],
   "source": [
    "answer = []\n",
    "for i in tasks:\n",
    "    for j in tasks[i]:\n",
    "        if i >= 2:\n",
    "            break\n",
    "        if len(answer) > 2:\n",
    "            break\n",
    "        if 'кот' in j:\n",
    "            answer.append(j)"
   ]
  },
  {
   "cell_type": "code",
   "execution_count": 70,
   "metadata": {},
   "outputs": [
    {
     "data": {
      "text/plain": [
       "['Покормить кота']"
      ]
     },
     "execution_count": 70,
     "metadata": {},
     "output_type": "execute_result"
    }
   ],
   "source": [
    "answer"
   ]
  },
  {
   "cell_type": "code",
   "execution_count": 71,
   "metadata": {},
   "outputs": [],
   "source": [
    "tasks = { \n",
    "    0: [\"Покормить кота\",\"Покормить кота\"],\n",
    "    1: [\"Покормить кота\", \"Забрать посылку\"]\n",
    "}"
   ]
  },
  {
   "cell_type": "code",
   "execution_count": 72,
   "metadata": {},
   "outputs": [],
   "source": [
    "new_tasks = {}\n",
    "for i in tasks:\n",
    "        new_tasks[i] = list(set(tasks[i]))"
   ]
  },
  {
   "cell_type": "code",
   "execution_count": 73,
   "metadata": {},
   "outputs": [
    {
     "data": {
      "text/plain": [
       "{0: ['Покормить кота'], 1: ['Покормить кота', 'Забрать посылку']}"
      ]
     },
     "execution_count": 73,
     "metadata": {},
     "output_type": "execute_result"
    }
   ],
   "source": [
    "new_tasks"
   ]
  },
  {
   "cell_type": "code",
   "execution_count": 83,
   "metadata": {},
   "outputs": [],
   "source": [
    "def final_balance(init_sum, interest_rate, years, round_num=2):\n",
    "    for i in range(years):\n",
    "        init_sum += init_sum * interest_rate * 0.01\n",
    "    return (round(init_sum,round_num))"
   ]
  },
  {
   "cell_type": "code",
   "execution_count": 84,
   "metadata": {},
   "outputs": [
    {
     "data": {
      "text/plain": [
       "1628.89"
      ]
     },
     "execution_count": 84,
     "metadata": {},
     "output_type": "execute_result"
    }
   ],
   "source": [
    "\n",
    "final_balance(1000,5,10)\n"
   ]
  },
  {
   "cell_type": "code",
   "execution_count": 80,
   "metadata": {},
   "outputs": [
    {
     "name": "stdout",
     "output_type": "stream",
     "text": [
      "1377.0059501026956\n"
     ]
    }
   ],
   "source": [
    "\n",
    "final_balance(700,7,10)"
   ]
  },
  {
   "cell_type": "code",
   "execution_count": 86,
   "metadata": {},
   "outputs": [
    {
     "name": "stdout",
     "output_type": "stream",
     "text": [
      "###\n",
      "[1, 64, 125, 729]\n",
      "###\n",
      "###\n",
      "[1, 1, 6, 1]\n",
      "###\n",
      "###\n",
      "[2, 5, 11, 10]\n",
      "###\n"
     ]
    },
    {
     "data": {
      "text/plain": [
       "[2, 5, 11, 10]"
      ]
     },
     "execution_count": 86,
     "metadata": {},
     "output_type": "execute_result"
    }
   ],
   "source": [
    "def math_task(data):\n",
    "    answer = []\n",
    "    # возводим в третью степень\n",
    "    for elem in data:\n",
    "        answer += [elem ** 3]\n",
    "\n",
    "    print(\"###\")\n",
    "    print(answer)\n",
    "    print(\"###\")\n",
    "\n",
    "    # берем остаток от деления на 7\n",
    "    for i in range(len(answer)):\n",
    "        answer[i] = answer[i] % 7\n",
    "\n",
    "    print(\"###\")\n",
    "    print(answer)\n",
    "    print(\"###\")\n",
    "\n",
    "    # прибавляем к остатку изначальный массив\n",
    "    for i in range(len(answer)):\n",
    "        answer[i] = answer[i] + data[i]\n",
    "\n",
    "    print(\"###\")\n",
    "    print(answer)\n",
    "    print(\"###\")\n",
    "\n",
    "    # возвращаем результат\n",
    "    return answer\n",
    "\n",
    "math_task([1, 4, 5, 9])\n"
   ]
  },
  {
   "cell_type": "code",
   "execution_count": 90,
   "metadata": {},
   "outputs": [],
   "source": [
    "def sum_as_ints(arr):\n",
    "    ans = []\n",
    "    for element in arr:\n",
    "        try:\n",
    "            int_element = int(element)\n",
    "            ans.append(int_element)\n",
    "        except ValueError:\n",
    "            print(\"Can't be converted to int\")\n",
    "    return sum(ans)"
   ]
  },
  {
   "cell_type": "code",
   "execution_count": 91,
   "metadata": {},
   "outputs": [
    {
     "name": "stdout",
     "output_type": "stream",
     "text": [
      "Can't be converted to int\n",
      "Can't be converted to int\n",
      "Can't be converted to int\n"
     ]
    },
    {
     "data": {
      "text/plain": [
       "6"
      ]
     },
     "execution_count": 91,
     "metadata": {},
     "output_type": "execute_result"
    }
   ],
   "source": [
    "sum_as_ints(['1','hello', '3.14', '5', 'man'])"
   ]
  },
  {
   "cell_type": "code",
   "execution_count": 141,
   "metadata": {},
   "outputs": [],
   "source": [
    "def reversed_(array):\n",
    "    rv = []\n",
    "    a = array.copy()\n",
    "    while a:\n",
    "        rv.append(a.pop())\n",
    "    return rv"
   ]
  },
  {
   "cell_type": "code",
   "execution_count": 142,
   "metadata": {},
   "outputs": [
    {
     "name": "stdout",
     "output_type": "stream",
     "text": [
      "Все хорошо\n"
     ]
    }
   ],
   "source": [
    "if reversed_(reversed_([1, 2, 3])) == [1, 2, 3]:\n",
    "    print(\"Все хорошо\")\n",
    "else:\n",
    "    raise RuntimeError(\"Ошибка, после обращения дважды не получается исходный массив!\")"
   ]
  },
  {
   "cell_type": "code",
   "execution_count": 143,
   "metadata": {},
   "outputs": [
    {
     "name": "stdout",
     "output_type": "stream",
     "text": [
      "Все хорошо\n"
     ]
    }
   ],
   "source": [
    "arr = [1, 2, 3]\n",
    "if reversed_(reversed_(arr)) == arr:\n",
    "    print(\"Все хорошо\")\n",
    "else:\n",
    "    raise RuntimeError(\"Ошибка, после обращения дважды не получается исходный массив!\")"
   ]
  },
  {
   "cell_type": "code",
   "execution_count": 145,
   "metadata": {},
   "outputs": [],
   "source": [
    "def find_substr(sub_s,s):\n",
    "    if sub_s in s:\n",
    "        k=0\n",
    "        for i in range(len(sub_s)):\n",
    "            if sub_s[i]==s[k]:\n",
    "                k+=1\n",
    "        return [k-len(sub_s),k]"
   ]
  },
  {
   "cell_type": "code",
   "execution_count": 147,
   "metadata": {},
   "outputs": [
    {
     "data": {
      "text/plain": [
       "[-2, 0]"
      ]
     },
     "execution_count": 147,
     "metadata": {},
     "output_type": "execute_result"
    }
   ],
   "source": [
    "find_substr(\"мы\", \"Летом мы хотим отдыхать на море\")"
   ]
  },
  {
   "cell_type": "code",
   "execution_count": 168,
   "metadata": {},
   "outputs": [],
   "source": [
    "def fifth_element(l):\n",
    "    ans = []\n",
    "    while len(l) > 4:\n",
    "        ans.append(l[-5])\n",
    "\n",
    "        l = l[:-5]\n",
    "        print(ans)"
   ]
  },
  {
   "cell_type": "code",
   "execution_count": 156,
   "metadata": {},
   "outputs": [
    {
     "data": {
      "text/plain": [
       "2"
      ]
     },
     "execution_count": 156,
     "metadata": {},
     "output_type": "execute_result"
    }
   ],
   "source": [
    "l = ['e',6,8,'A','>','^','S','$','R','C',6,'+','#',9,'/',1,'T','!','%','K',7,'-','O','*','<',2,'h',4,'g']\n",
    "l[-4]"
   ]
  },
  {
   "cell_type": "code",
   "execution_count": 167,
   "metadata": {},
   "outputs": [
    {
     "name": "stdout",
     "output_type": "stream",
     "text": [
      "['e', 6, 8, 'A', '>', '^', 'S', '$', 'R', 'C', 6, '+', '#', 9, '/', 1, 'T', '!', '%', 'K', 7, '-', 'O', '*']\n",
      "['<']\n",
      "['e', 6, 8, 'A', '>', '^', 'S', '$', 'R', 'C', 6, '+', '#', 9, '/', 1, 'T', '!', '%']\n",
      "['<', 'K']\n",
      "['e', 6, 8, 'A', '>', '^', 'S', '$', 'R', 'C', 6, '+', '#', 9]\n",
      "['<', 'K', '/']\n",
      "['e', 6, 8, 'A', '>', '^', 'S', '$', 'R']\n",
      "['<', 'K', '/', 'C']\n",
      "['e', 6, 8, 'A']\n",
      "['<', 'K', '/', 'C', '>']\n"
     ]
    }
   ],
   "source": [
    "fifth_element(['e',6,8,'A','>','^','S','$','R','C',6,'+','#',9,'/',1,'T','!','%','K',7,'-','O','*','<',2,'h',4,'g'])"
   ]
  },
  {
   "cell_type": "code",
   "execution_count": 5,
   "metadata": {},
   "outputs": [
    {
     "name": "stdout",
     "output_type": "stream",
     "text": [
      "[5]\n",
      "[5, 2]\n",
      "[5]\n",
      "[5, 10]\n",
      "[5, 10, 15]\n"
     ]
    },
    {
     "data": {
      "text/plain": [
       "[5, 10, 15]"
      ]
     },
     "execution_count": 5,
     "metadata": {},
     "output_type": "execute_result"
    }
   ],
   "source": [
    "operations = [\"5\",\"2\",\"C\",\"D\",\"+\"]\n",
    "\n",
    "\n",
    "ans = []\n",
    "for i in operations:\n",
    "    if i == '+':\n",
    "        ans.append(int(ans[len(ans)-1]) + int(ans[len(ans)-2]))\n",
    "    elif i == 'D':\n",
    "        ans.append(int(ans[len(ans)-1]) * 2)\n",
    "    elif i == 'C':\n",
    "        ans.pop()\n",
    "    else:\n",
    "        ans.append(int(i))\n",
    "    print(ans)\n",
    "\n",
    "ans"
   ]
  }
 ],
 "metadata": {
  "interpreter": {
   "hash": "6e546691516807557703c084d579030abf938edf2df8fd39f76172b7e3d0acce"
  },
  "kernelspec": {
   "display_name": "Python 3.8.15",
   "language": "python",
   "name": "python3"
  },
  "language_info": {
   "codemirror_mode": {
    "name": "ipython",
    "version": 3
   },
   "file_extension": ".py",
   "mimetype": "text/x-python",
   "name": "python",
   "nbconvert_exporter": "python",
   "pygments_lexer": "ipython3",
   "version": "3.8.15"
  },
  "orig_nbformat": 4
 },
 "nbformat": 4,
 "nbformat_minor": 2
}
