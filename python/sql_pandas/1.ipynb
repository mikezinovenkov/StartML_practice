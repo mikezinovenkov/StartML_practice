{
 "cells": [
  {
   "cell_type": "code",
   "execution_count": 1,
   "metadata": {},
   "outputs": [
    {
     "name": "stdout",
     "output_type": "stream",
     "text": [
      "Collecting psycopg2-binary\n",
      "  Downloading psycopg2_binary-2.9.5-cp38-cp38-macosx_11_0_arm64.whl (2.0 MB)\n",
      "\u001b[2K     \u001b[90m━━━━━━━━━━━━━━━━━━━━━━━━━━━━━━━━━━━━━━━━\u001b[0m \u001b[32m2.0/2.0 MB\u001b[0m \u001b[31m4.7 MB/s\u001b[0m eta \u001b[36m0:00:00\u001b[0m00:01\u001b[0m00:01\u001b[0m\n",
      "\u001b[?25hInstalling collected packages: psycopg2-binary\n",
      "Successfully installed psycopg2-binary-2.9.5\n"
     ]
    }
   ],
   "source": [
    "import psycopg2"
   ]
  },
  {
   "cell_type": "code",
   "execution_count": 2,
   "metadata": {},
   "outputs": [],
   "source": [
    "database=\"startml\",\n",
    "user=\"robot-startml-ro\",\n",
    "password=\"pheiph0hahj1Vaif\",\n",
    "host=\"postgres.lab.karpov.courses\",\n",
    "port=6432"
   ]
  },
  {
   "cell_type": "code",
   "execution_count": 5,
   "metadata": {},
   "outputs": [
    {
     "ename": "AttributeError",
     "evalue": "'Engine' object has no attribute 'cursor'",
     "output_type": "error",
     "traceback": [
      "\u001b[0;31m---------------------------------------------------------------------------\u001b[0m",
      "\u001b[0;31mAttributeError\u001b[0m                            Traceback (most recent call last)",
      "Cell \u001b[0;32mIn[5], line 3\u001b[0m\n\u001b[1;32m      1\u001b[0m \u001b[38;5;28;01mimport\u001b[39;00m \u001b[38;5;21;01mpandas\u001b[39;00m \u001b[38;5;28;01mas\u001b[39;00m \u001b[38;5;21;01mpd\u001b[39;00m\n\u001b[0;32m----> 3\u001b[0m df \u001b[38;5;241m=\u001b[39m \u001b[43mpd\u001b[49m\u001b[38;5;241;43m.\u001b[39;49m\u001b[43mread_sql\u001b[49m\u001b[43m(\u001b[49m\n\u001b[1;32m      4\u001b[0m \u001b[38;5;250;43m    \u001b[39;49m\u001b[38;5;124;43;03m\"\"\"SELECT * FROM \"feed_action\" LIMIT 10 \"\"\"\u001b[39;49;00m\u001b[43m,\u001b[49m\n\u001b[1;32m      5\u001b[0m \u001b[43m    \u001b[49m\u001b[43mcon\u001b[49m\u001b[38;5;241;43m=\u001b[39;49m\u001b[38;5;124;43m\"\u001b[39;49m\u001b[38;5;124;43mpostgresql://robot-startml-ro:pheiph0hahj1Vaif@\u001b[39;49m\u001b[38;5;124;43m\"\u001b[39;49m\n\u001b[1;32m      6\u001b[0m \u001b[43m        \u001b[49m\u001b[38;5;124;43m\"\u001b[39;49m\u001b[38;5;124;43mpostgres.lab.karpov.courses:6432/startml\u001b[39;49m\u001b[38;5;124;43m\"\u001b[39;49m\n\u001b[1;32m      7\u001b[0m \u001b[43m)\u001b[49m\n\u001b[1;32m      9\u001b[0m df\u001b[38;5;241m.\u001b[39mhead()\n",
      "File \u001b[0;32m~/venv/env/lib/python3.8/site-packages/pandas/io/sql.py:602\u001b[0m, in \u001b[0;36mread_sql\u001b[0;34m(sql, con, index_col, coerce_float, params, parse_dates, columns, chunksize)\u001b[0m\n\u001b[1;32m    <a href='file:///Users/mikezinovenkov/venv/env/lib/python3.8/site-packages/pandas/io/sql.py?line=598'>599</a>\u001b[0m pandas_sql \u001b[39m=\u001b[39m pandasSQL_builder(con)\n\u001b[1;32m    <a href='file:///Users/mikezinovenkov/venv/env/lib/python3.8/site-packages/pandas/io/sql.py?line=600'>601</a>\u001b[0m \u001b[39mif\u001b[39;00m \u001b[39misinstance\u001b[39m(pandas_sql, SQLiteDatabase):\n\u001b[0;32m--> <a href='file:///Users/mikezinovenkov/venv/env/lib/python3.8/site-packages/pandas/io/sql.py?line=601'>602</a>\u001b[0m     \u001b[39mreturn\u001b[39;00m pandas_sql\u001b[39m.\u001b[39;49mread_query(\n\u001b[1;32m    <a href='file:///Users/mikezinovenkov/venv/env/lib/python3.8/site-packages/pandas/io/sql.py?line=602'>603</a>\u001b[0m         sql,\n\u001b[1;32m    <a href='file:///Users/mikezinovenkov/venv/env/lib/python3.8/site-packages/pandas/io/sql.py?line=603'>604</a>\u001b[0m         index_col\u001b[39m=\u001b[39;49mindex_col,\n\u001b[1;32m    <a href='file:///Users/mikezinovenkov/venv/env/lib/python3.8/site-packages/pandas/io/sql.py?line=604'>605</a>\u001b[0m         params\u001b[39m=\u001b[39;49mparams,\n\u001b[1;32m    <a href='file:///Users/mikezinovenkov/venv/env/lib/python3.8/site-packages/pandas/io/sql.py?line=605'>606</a>\u001b[0m         coerce_float\u001b[39m=\u001b[39;49mcoerce_float,\n\u001b[1;32m    <a href='file:///Users/mikezinovenkov/venv/env/lib/python3.8/site-packages/pandas/io/sql.py?line=606'>607</a>\u001b[0m         parse_dates\u001b[39m=\u001b[39;49mparse_dates,\n\u001b[1;32m    <a href='file:///Users/mikezinovenkov/venv/env/lib/python3.8/site-packages/pandas/io/sql.py?line=607'>608</a>\u001b[0m         chunksize\u001b[39m=\u001b[39;49mchunksize,\n\u001b[1;32m    <a href='file:///Users/mikezinovenkov/venv/env/lib/python3.8/site-packages/pandas/io/sql.py?line=608'>609</a>\u001b[0m     )\n\u001b[1;32m    <a href='file:///Users/mikezinovenkov/venv/env/lib/python3.8/site-packages/pandas/io/sql.py?line=610'>611</a>\u001b[0m \u001b[39mtry\u001b[39;00m:\n\u001b[1;32m    <a href='file:///Users/mikezinovenkov/venv/env/lib/python3.8/site-packages/pandas/io/sql.py?line=611'>612</a>\u001b[0m     _is_table_name \u001b[39m=\u001b[39m pandas_sql\u001b[39m.\u001b[39mhas_table(sql)\n",
      "File \u001b[0;32m~/venv/env/lib/python3.8/site-packages/pandas/io/sql.py:2116\u001b[0m, in \u001b[0;36mSQLiteDatabase.read_query\u001b[0;34m(self, sql, index_col, coerce_float, params, parse_dates, chunksize, dtype)\u001b[0m\n\u001b[1;32m   <a href='file:///Users/mikezinovenkov/venv/env/lib/python3.8/site-packages/pandas/io/sql.py?line=2103'>2104</a>\u001b[0m \u001b[39mdef\u001b[39;00m \u001b[39mread_query\u001b[39m(\n\u001b[1;32m   <a href='file:///Users/mikezinovenkov/venv/env/lib/python3.8/site-packages/pandas/io/sql.py?line=2104'>2105</a>\u001b[0m     \u001b[39mself\u001b[39m,\n\u001b[1;32m   <a href='file:///Users/mikezinovenkov/venv/env/lib/python3.8/site-packages/pandas/io/sql.py?line=2105'>2106</a>\u001b[0m     sql,\n\u001b[0;32m   (...)\u001b[0m\n\u001b[1;32m   <a href='file:///Users/mikezinovenkov/venv/env/lib/python3.8/site-packages/pandas/io/sql.py?line=2111'>2112</a>\u001b[0m     dtype: DtypeArg \u001b[39m|\u001b[39m \u001b[39mNone\u001b[39;00m \u001b[39m=\u001b[39m \u001b[39mNone\u001b[39;00m,\n\u001b[1;32m   <a href='file:///Users/mikezinovenkov/venv/env/lib/python3.8/site-packages/pandas/io/sql.py?line=2112'>2113</a>\u001b[0m ):\n\u001b[1;32m   <a href='file:///Users/mikezinovenkov/venv/env/lib/python3.8/site-packages/pandas/io/sql.py?line=2114'>2115</a>\u001b[0m     args \u001b[39m=\u001b[39m _convert_params(sql, params)\n\u001b[0;32m-> <a href='file:///Users/mikezinovenkov/venv/env/lib/python3.8/site-packages/pandas/io/sql.py?line=2115'>2116</a>\u001b[0m     cursor \u001b[39m=\u001b[39m \u001b[39mself\u001b[39;49m\u001b[39m.\u001b[39;49mexecute(\u001b[39m*\u001b[39;49margs)\n\u001b[1;32m   <a href='file:///Users/mikezinovenkov/venv/env/lib/python3.8/site-packages/pandas/io/sql.py?line=2116'>2117</a>\u001b[0m     columns \u001b[39m=\u001b[39m [col_desc[\u001b[39m0\u001b[39m] \u001b[39mfor\u001b[39;00m col_desc \u001b[39min\u001b[39;00m cursor\u001b[39m.\u001b[39mdescription]\n\u001b[1;32m   <a href='file:///Users/mikezinovenkov/venv/env/lib/python3.8/site-packages/pandas/io/sql.py?line=2118'>2119</a>\u001b[0m     \u001b[39mif\u001b[39;00m chunksize \u001b[39mis\u001b[39;00m \u001b[39mnot\u001b[39;00m \u001b[39mNone\u001b[39;00m:\n",
      "File \u001b[0;32m~/venv/env/lib/python3.8/site-packages/pandas/io/sql.py:2054\u001b[0m, in \u001b[0;36mSQLiteDatabase.execute\u001b[0;34m(self, *args, **kwargs)\u001b[0m\n\u001b[1;32m   <a href='file:///Users/mikezinovenkov/venv/env/lib/python3.8/site-packages/pandas/io/sql.py?line=2051'>2052</a>\u001b[0m     cur \u001b[39m=\u001b[39m \u001b[39mself\u001b[39m\u001b[39m.\u001b[39mcon\n\u001b[1;32m   <a href='file:///Users/mikezinovenkov/venv/env/lib/python3.8/site-packages/pandas/io/sql.py?line=2052'>2053</a>\u001b[0m \u001b[39melse\u001b[39;00m:\n\u001b[0;32m-> <a href='file:///Users/mikezinovenkov/venv/env/lib/python3.8/site-packages/pandas/io/sql.py?line=2053'>2054</a>\u001b[0m     cur \u001b[39m=\u001b[39m \u001b[39mself\u001b[39;49m\u001b[39m.\u001b[39;49mcon\u001b[39m.\u001b[39;49mcursor()\n\u001b[1;32m   <a href='file:///Users/mikezinovenkov/venv/env/lib/python3.8/site-packages/pandas/io/sql.py?line=2054'>2055</a>\u001b[0m \u001b[39mtry\u001b[39;00m:\n\u001b[1;32m   <a href='file:///Users/mikezinovenkov/venv/env/lib/python3.8/site-packages/pandas/io/sql.py?line=2055'>2056</a>\u001b[0m     cur\u001b[39m.\u001b[39mexecute(\u001b[39m*\u001b[39margs, \u001b[39m*\u001b[39m\u001b[39m*\u001b[39mkwargs)\n",
      "\u001b[0;31mAttributeError\u001b[0m: 'Engine' object has no attribute 'cursor'"
     ]
    }
   ],
   "source": [
    "import pandas as pd\n",
    "\n",
    "df = pd.read_sql(\n",
    "    \"\"\"SELECT * FROM \"feed_action\" LIMIT 10 \"\"\",\n",
    "    con=\"postgresql://robot-startml-ro:pheiph0hahj1Vaif@\"\n",
    "        \"postgres.lab.karpov.courses:6432/startml\"\n",
    ")\n",
    "\n",
    "df.head()"
   ]
  },
  {
   "cell_type": "code",
   "execution_count": null,
   "metadata": {},
   "outputs": [],
   "source": []
  }
 ],
 "metadata": {
  "interpreter": {
   "hash": "6e546691516807557703c084d579030abf938edf2df8fd39f76172b7e3d0acce"
  },
  "kernelspec": {
   "display_name": "Python 3.8.15",
   "language": "python",
   "name": "python3"
  },
  "language_info": {
   "codemirror_mode": {
    "name": "ipython",
    "version": 3
   },
   "file_extension": ".py",
   "mimetype": "text/x-python",
   "name": "python",
   "nbconvert_exporter": "python",
   "pygments_lexer": "ipython3",
   "version": "3.8.15"
  },
  "orig_nbformat": 4
 },
 "nbformat": 4,
 "nbformat_minor": 2
}
