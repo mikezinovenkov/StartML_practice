{
 "cells": [
  {
   "cell_type": "code",
   "execution_count": 75,
   "metadata": {},
   "outputs": [],
   "source": [
    "class Triangle:\n",
    "    def __init__(self, a, b, c):\n",
    "\n",
    "        self.a = a\n",
    "        self.b = b\n",
    "        self.c = c\n",
    "        self.n_dots = 3\n",
    "\n",
    "        if self.a >= self.b + self.c or self.b >= self.a + self.c or self.c >= self.b + self.a: \n",
    "            raise ValueError(\"triangle inequality does not hold\")\n",
    "\n",
    "    def area(self):\n",
    "        \n",
    "        p = 1/2*(self.a + self.b + self.c)\n",
    "        S = (p*(p-self.a)*(p-self.b)*(p-self.c))**(1/2)\n",
    "        return S\n",
    "\n",
    "tr_1 = Triangle(3,4,5)\n",
    "tr_2 = Triangle(5,4,3)\n",
    "\n",
    "square_1 = tr_1.area()\n",
    "square_2 = tr_2.area()"
   ]
  },
  {
   "cell_type": "code",
   "execution_count": 1,
   "metadata": {},
   "outputs": [],
   "source": [
    "class Triangle:\n",
    "    n_dots = 3\n",
    "    def __init__(self, a, b, c):\n",
    "\n",
    "        self.a = a\n",
    "        self.b = b\n",
    "        self.c = c\n",
    "\n",
    "        if a >= b + c or b >= a + c or c >= b + a  or a == 0 or b == 0 or c == 0: \n",
    "            raise ValueError(\"triangle inequality does not hold\")\n",
    "\n",
    "    def area(self):\n",
    "        \n",
    "        p = 1/2*(self.a + self.b + self.c)\n",
    "        S = (p*(p-self.a)*(p-self.b)*(p-self.c))**(1/2)\n",
    "        return S\n",
    "\n",
    "tr_1 = Triangle(3,4,5)\n",
    "tr_2 = Triangle(5,4,3)\n",
    "\n",
    "square_1 = tr_1.area()\n",
    "square_2 = tr_2.area()"
   ]
  },
  {
   "cell_type": "code",
   "execution_count": 4,
   "metadata": {},
   "outputs": [
    {
     "data": {
      "text/plain": [
       "0.4330127018922193"
      ]
     },
     "execution_count": 4,
     "metadata": {},
     "output_type": "execute_result"
    }
   ],
   "source": [
    "tr = Triangle(1,1,1)\n",
    "tr.area()"
   ]
  },
  {
   "cell_type": "code",
   "execution_count": 47,
   "metadata": {},
   "outputs": [],
   "source": [
    "class Rectangle(Triangle):\n",
    "    n_dots = 4\n",
    "    def __init__(self, a, b, n_dots=4):\n",
    "\n",
    "        self.a = a\n",
    "        self.b = b\n",
    "\n",
    "    def area(self):\n",
    "        S = self.a * self.b\n",
    "        return S"
   ]
  },
  {
   "cell_type": "code",
   "execution_count": 48,
   "metadata": {},
   "outputs": [],
   "source": [
    "rec_1 = Rectangle(2,4)"
   ]
  },
  {
   "cell_type": "code",
   "execution_count": 49,
   "metadata": {},
   "outputs": [
    {
     "data": {
      "text/plain": [
       "4"
      ]
     },
     "execution_count": 49,
     "metadata": {},
     "output_type": "execute_result"
    }
   ],
   "source": [
    "rec_1.n_dots"
   ]
  },
  {
   "cell_type": "code",
   "execution_count": 31,
   "metadata": {},
   "outputs": [],
   "source": [
    "tr_3 = Triangle(1,1,1)"
   ]
  },
  {
   "cell_type": "code",
   "execution_count": 26,
   "metadata": {},
   "outputs": [
    {
     "data": {
      "text/plain": [
       "0.4330127018922193"
      ]
     },
     "execution_count": 26,
     "metadata": {},
     "output_type": "execute_result"
    }
   ],
   "source": [
    "tr_3.area()"
   ]
  },
  {
   "cell_type": "code",
   "execution_count": 5,
   "metadata": {},
   "outputs": [],
   "source": [
    "class BaseFigure:\n",
    "    n_dots = None\n",
    "    def __init__(self):\n",
    "        self.validate()\n",
    "\n",
    "    def validate(self):\n",
    "        raise NotImplementedError()\n",
    "    \n",
    "    def area(self):\n",
    "        raise NotImplementedError()"
   ]
  },
  {
   "cell_type": "code",
   "execution_count": 10,
   "metadata": {},
   "outputs": [],
   "source": [
    "class Triangle(BaseFigure):\n",
    "    n_dots = 3\n",
    "    def __init__(self, a, b, c):\n",
    "\n",
    "        self.a = a\n",
    "        self.b = b\n",
    "        self.c = c\n",
    "\n",
    "        super().__init__()\n",
    "\n",
    "    def validate(self):\n",
    "        if self.a >= self.b + self.c or self.b >= self.a + self.c or self.c >= self.b + self.a  or self.a == 0 or self.b == 0 or self.c == 0: \n",
    "            raise ValueError(\"triangle inequality does not hold\")\n",
    "\n",
    "    def area(self):\n",
    "        \n",
    "        p = 1/2*(self.a + self.b + self.c)\n",
    "        S = (p*(p-self.a)*(p-self.b)*(p-self.c))**(1/2)\n",
    "        return S\n",
    "\n",
    "class Rectangle(BaseFigure):\n",
    "    n_dots = 4\n",
    "    def __init__(self, a, b):\n",
    "\n",
    "        self.a = a\n",
    "        self.b = b\n",
    "\n",
    "        super().__init__()\n",
    "\n",
    "    def validate(self):\n",
    "        return self.a, self.b\n",
    "\n",
    "    def area(self):\n",
    "        S = self.a * self.b\n",
    "        return S"
   ]
  },
  {
   "cell_type": "code",
   "execution_count": 15,
   "metadata": {},
   "outputs": [],
   "source": [
    "class Circle(BaseFigure):\n",
    "    n_dots = float('inf')\n",
    "    def __init__(self, r):\n",
    "\n",
    "        self.r = r\n",
    "\n",
    "        super().__init__()\n",
    "\n",
    "    def validate(self):\n",
    "        pass\n",
    "\n",
    "    def area(self):\n",
    "        S = 3.14 * (self.r)**2\n",
    "        return S"
   ]
  },
  {
   "cell_type": "code",
   "execution_count": 52,
   "metadata": {},
   "outputs": [],
   "source": [
    "class Vector():\n",
    "    def __init__(self, coords):\n",
    "\n",
    "        self.coords = coords\n",
    "    \n",
    "    def __add__(self, other):\n",
    "        if len(self.coords) != len(other.coords):\n",
    "            raise ValueError (f'left and right lengths differ: {len(self.coords)} != {len(other.coords)}')\n",
    "\n",
    "        return Vector([self.coords[i] + other.coords[i] for i in range(len(self.coords))])\n",
    "\n",
    "    def __mul__(self, other):\n",
    "        if isinstance(other, int):\n",
    "            return Vector([self.coords[i] * other for i in range(len(self.coords))])\n",
    "\n",
    "        if len(self.coords) != len(other.coords):\n",
    "            raise ValueError (f'left and right lengths differ: {len(self.coords)} != {len(other.coords)}')\n",
    "        ans = 0\n",
    "        for i in range(len(self.coords)):\n",
    "            ans += self.coords[i] * other.coords[i]\n",
    "        \n",
    "        return ans\n",
    "\n",
    "    def __abs__(self):\n",
    "        \n",
    "        return (self * self)**(1/2)\n",
    "\n",
    "    def __str__(self):\n",
    "        return str(self.coords)\n",
    "    \n",
    "    def __eq__(self, other):\n",
    "        if len(self.coords) != len(other.coords):\n",
    "            return False\n",
    "        for i in range(len(self.coords)):\n",
    "            if self.coords[i] != other.coords[i]:\n",
    "                return False\n",
    "        return True\n"
   ]
  },
  {
   "cell_type": "code",
   "execution_count": 54,
   "metadata": {},
   "outputs": [
    {
     "data": {
      "text/plain": [
       "False"
      ]
     },
     "execution_count": 54,
     "metadata": {},
     "output_type": "execute_result"
    }
   ],
   "source": [
    "Vector([1, 3, 5]) == Vector([-1, 3, 5])"
   ]
  },
  {
   "cell_type": "code",
   "execution_count": 44,
   "metadata": {},
   "outputs": [
    {
     "name": "stdout",
     "output_type": "stream",
     "text": [
      "[1]\n"
     ]
    }
   ],
   "source": [
    "vec = Vector([1])\n",
    "print(vec)"
   ]
  },
  {
   "cell_type": "code",
   "execution_count": 36,
   "metadata": {},
   "outputs": [
    {
     "data": {
      "text/plain": [
       "[3, 5, 7]"
      ]
     },
     "execution_count": 36,
     "metadata": {},
     "output_type": "execute_result"
    }
   ],
   "source": [
    "(Vector([1, 2, 3]) + Vector((2, 3, 4))).coords"
   ]
  },
  {
   "cell_type": "code",
   "execution_count": 71,
   "metadata": {},
   "outputs": [],
   "source": [
    "# будет приходить запрос в виде словаря\n",
    "request = {\n",
    "  \"cookies\": {'key_1': 'value_1', 'key_2': 'value_2'},\n",
    "  \"body\": \"a long time ago, in a Galaxy far, far away\",\n",
    "  \"headers\": {\"content-type\": \"application/json\", \"Accept\": \"application/json\"}\n",
    "}"
   ]
  },
  {
   "cell_type": "code",
   "execution_count": 72,
   "metadata": {},
   "outputs": [
    {
     "data": {
      "text/plain": [
       "3"
      ]
     },
     "execution_count": 72,
     "metadata": {},
     "output_type": "execute_result"
    }
   ],
   "source": [
    "len(request)"
   ]
  },
  {
   "cell_type": "code",
   "execution_count": 69,
   "metadata": {},
   "outputs": [
    {
     "data": {
      "text/plain": [
       "False"
      ]
     },
     "execution_count": 69,
     "metadata": {},
     "output_type": "execute_result"
    }
   ],
   "source": [
    "'content-type' in request['headers'] and \"application/json\" in request['headers']['content-type']"
   ]
  },
  {
   "cell_type": "code",
   "execution_count": 60,
   "metadata": {},
   "outputs": [],
   "source": [
    "class ParsesCookies:\n",
    "    def __init__(self, request):\n",
    "        self.request = request\n",
    "    \n",
    "    def cookies(self):\n",
    "        return self.request['cookies']\n",
    "    \n",
    "    def is_authed(self):\n",
    "        return 'auth_key' in self.request['cookies']\n",
    "    \n",
    "class ParsesBody:\n",
    "    def __init__(self, request):\n",
    "        self.request = request\n",
    "    \n",
    "    def body(self):\n",
    "        return self.request['body']\n",
    "\n",
    "class ParsesHeaders:\n",
    "    def __init__(self, request):\n",
    "        self.request = request\n",
    "\n",
    "    def headers(self):\n",
    "        return self.request['headers']\n",
    "    \n",
    "    def need_json(self):\n",
    "        return self.request['headers']['content-type'] == \"application/json\""
   ]
  },
  {
   "cell_type": "code",
   "execution_count": 70,
   "metadata": {},
   "outputs": [],
   "source": [
    "import json"
   ]
  },
  {
   "cell_type": "code",
   "execution_count": null,
   "metadata": {},
   "outputs": [],
   "source": [
    "json.loads()"
   ]
  },
  {
   "cell_type": "code",
   "execution_count": null,
   "metadata": {},
   "outputs": [],
   "source": [
    "class JsonHandler(ParsesBody, ParsesHeaders):\n",
    "    def __init__(self, request):\n",
    "        self.request = request\n",
    "    \n",
    "    def process(self):\n",
    "        if self.need_json() == False:\n",
    "            return None\n",
    "        \n",
    "        try: \n",
    "            return len(json.loads(self.body()))\n",
    "        except:\n",
    "            return None"
   ]
  },
  {
   "cell_type": "code",
   "execution_count": 73,
   "metadata": {},
   "outputs": [],
   "source": [
    "class SecureTextHandler(ParsesBody, ParsesHeaders, ParsesCookies):\n",
    "    def __init__(self, request):\n",
    "        self.request = request\n",
    "\n",
    "    def process(self):\n",
    "        if self.is_authed() == False:\n",
    "            return None\n",
    "        \n",
    "        return len(self.body())"
   ]
  }
 ],
 "metadata": {
  "interpreter": {
   "hash": "6e546691516807557703c084d579030abf938edf2df8fd39f76172b7e3d0acce"
  },
  "kernelspec": {
   "display_name": "Python 3.8.15",
   "language": "python",
   "name": "python3"
  },
  "language_info": {
   "codemirror_mode": {
    "name": "ipython",
    "version": 3
   },
   "file_extension": ".py",
   "mimetype": "text/x-python",
   "name": "python",
   "nbconvert_exporter": "python",
   "pygments_lexer": "ipython3",
   "version": "3.8.15"
  },
  "orig_nbformat": 4
 },
 "nbformat": 4,
 "nbformat_minor": 2
}
