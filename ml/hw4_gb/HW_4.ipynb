{
 "cells": [
  {
   "cell_type": "markdown",
   "metadata": {},
   "source": [
    "Реализуем градиентный спуск для задачи поиска оптимальных коэффициентов в MSE регрессии!"
   ]
  },
  {
   "cell_type": "code",
   "execution_count": 2,
   "metadata": {},
   "outputs": [],
   "source": [
    "import numpy as np\n",
    "import pandas as pd\n",
    "import matplotlib.pyplot as plt"
   ]
  },
  {
   "cell_type": "markdown",
   "metadata": {},
   "source": [
    "Имеем 1000 объектов и 10 признаков у каждого (+таргет)!\n",
    "\n",
    "Обучим модель линейной регрессии:\n",
    "\n",
    "$$\n",
    "a(x) = \\beta_1 d_{1} + \\beta_2 d_{2} + \\beta_3 d_{3} + \\beta_4 d_{4} + \\beta_5 d_{5} + \\beta_6 d_{6} + \\beta_7 d_{7} + \\beta_8 d_{8} + \\beta_9 d_{9} + \\beta_{10} d_{10} + \\beta_0\n",
    "$$\n",
    "\n",
    "Которая минимизирует MSE:\n",
    "\n",
    "$$\n",
    "Q(a(X), Y) = \\sum_i^{1000} (a(x_i) - y_i)^2\n",
    "$$"
   ]
  },
  {
   "cell_type": "code",
   "execution_count": 3,
   "metadata": {
    "tags": []
   },
   "outputs": [
    {
     "data": {
      "text/html": [
       "<div>\n",
       "<style scoped>\n",
       "    .dataframe tbody tr th:only-of-type {\n",
       "        vertical-align: middle;\n",
       "    }\n",
       "\n",
       "    .dataframe tbody tr th {\n",
       "        vertical-align: top;\n",
       "    }\n",
       "\n",
       "    .dataframe thead th {\n",
       "        text-align: right;\n",
       "    }\n",
       "</style>\n",
       "<table border=\"1\" class=\"dataframe\">\n",
       "  <thead>\n",
       "    <tr style=\"text-align: right;\">\n",
       "      <th></th>\n",
       "      <th>feature_1</th>\n",
       "      <th>feature_2</th>\n",
       "      <th>feature_3</th>\n",
       "      <th>feature_4</th>\n",
       "      <th>feature_5</th>\n",
       "      <th>feature_6</th>\n",
       "      <th>feature_7</th>\n",
       "      <th>feature_8</th>\n",
       "      <th>feature_9</th>\n",
       "      <th>feature_10</th>\n",
       "      <th>target</th>\n",
       "    </tr>\n",
       "  </thead>\n",
       "  <tbody>\n",
       "    <tr>\n",
       "      <th>0</th>\n",
       "      <td>0.113768</td>\n",
       "      <td>0.930064</td>\n",
       "      <td>0.330528</td>\n",
       "      <td>0.010987</td>\n",
       "      <td>0.265703</td>\n",
       "      <td>0.699462</td>\n",
       "      <td>0.058465</td>\n",
       "      <td>0.431643</td>\n",
       "      <td>0.650958</td>\n",
       "      <td>0.751820</td>\n",
       "      <td>30.147094</td>\n",
       "    </tr>\n",
       "    <tr>\n",
       "      <th>1</th>\n",
       "      <td>0.380048</td>\n",
       "      <td>0.485946</td>\n",
       "      <td>0.870232</td>\n",
       "      <td>0.473401</td>\n",
       "      <td>0.454516</td>\n",
       "      <td>0.500864</td>\n",
       "      <td>0.471723</td>\n",
       "      <td>0.234329</td>\n",
       "      <td>0.072982</td>\n",
       "      <td>0.008372</td>\n",
       "      <td>21.424402</td>\n",
       "    </tr>\n",
       "    <tr>\n",
       "      <th>2</th>\n",
       "      <td>0.768462</td>\n",
       "      <td>0.217706</td>\n",
       "      <td>0.727438</td>\n",
       "      <td>0.718377</td>\n",
       "      <td>0.452155</td>\n",
       "      <td>0.434638</td>\n",
       "      <td>0.043989</td>\n",
       "      <td>0.972489</td>\n",
       "      <td>0.450133</td>\n",
       "      <td>0.378157</td>\n",
       "      <td>31.422056</td>\n",
       "    </tr>\n",
       "    <tr>\n",
       "      <th>3</th>\n",
       "      <td>0.606637</td>\n",
       "      <td>0.604335</td>\n",
       "      <td>0.540332</td>\n",
       "      <td>0.491236</td>\n",
       "      <td>0.325632</td>\n",
       "      <td>0.206348</td>\n",
       "      <td>0.825767</td>\n",
       "      <td>0.332475</td>\n",
       "      <td>0.955518</td>\n",
       "      <td>0.162811</td>\n",
       "      <td>31.308588</td>\n",
       "    </tr>\n",
       "    <tr>\n",
       "      <th>4</th>\n",
       "      <td>0.119770</td>\n",
       "      <td>0.469718</td>\n",
       "      <td>0.632829</td>\n",
       "      <td>0.504207</td>\n",
       "      <td>0.238259</td>\n",
       "      <td>0.452457</td>\n",
       "      <td>0.775360</td>\n",
       "      <td>0.174262</td>\n",
       "      <td>0.117621</td>\n",
       "      <td>0.218883</td>\n",
       "      <td>23.322751</td>\n",
       "    </tr>\n",
       "  </tbody>\n",
       "</table>\n",
       "</div>"
      ],
      "text/plain": [
       "   feature_1  feature_2  feature_3  feature_4  feature_5  feature_6  \\\n",
       "0   0.113768   0.930064   0.330528   0.010987   0.265703   0.699462   \n",
       "1   0.380048   0.485946   0.870232   0.473401   0.454516   0.500864   \n",
       "2   0.768462   0.217706   0.727438   0.718377   0.452155   0.434638   \n",
       "3   0.606637   0.604335   0.540332   0.491236   0.325632   0.206348   \n",
       "4   0.119770   0.469718   0.632829   0.504207   0.238259   0.452457   \n",
       "\n",
       "   feature_7  feature_8  feature_9  feature_10     target  \n",
       "0   0.058465   0.431643   0.650958    0.751820  30.147094  \n",
       "1   0.471723   0.234329   0.072982    0.008372  21.424402  \n",
       "2   0.043989   0.972489   0.450133    0.378157  31.422056  \n",
       "3   0.825767   0.332475   0.955518    0.162811  31.308588  \n",
       "4   0.775360   0.174262   0.117621    0.218883  23.322751  "
      ]
     },
     "execution_count": 3,
     "metadata": {},
     "output_type": "execute_result"
    }
   ],
   "source": [
    "data = pd.read_csv('data.csv')\n",
    "\n",
    "data.head()"
   ]
  },
  {
   "cell_type": "markdown",
   "metadata": {},
   "source": [
    "Обучим коэффициенты линейной регрессии с помощью библиотеки <a href=\"https://scikit-learn.org/stable/modules/generated/sklearn.linear_model.LinearRegression.html\"> **sklearn** </a>\n",
    "\n",
    "Отдельно выведем оценку свободного коэффициента  ($\\beta_0$ при $d_0 = 1$)"
   ]
  },
  {
   "cell_type": "code",
   "execution_count": 4,
   "metadata": {},
   "outputs": [
    {
     "name": "stdout",
     "output_type": "stream",
     "text": [
      "[ 1.  2.  3.  4.  5.  6.  7.  8.  9. 10.]\n",
      "4.3731570387071415\n"
     ]
    }
   ],
   "source": [
    "from sklearn.linear_model import LinearRegression\n",
    "\n",
    "### Your code is here\n",
    "X = data.drop(columns=['target'])\n",
    "Y = data['target']\n",
    "\n",
    "model=LinearRegression()\n",
    "model.fit(X,Y)\n",
    "\n",
    "print(model.coef_)\n",
    "print(model.intercept_)"
   ]
  },
  {
   "cell_type": "markdown",
   "metadata": {},
   "source": [
    "Теперь вам необходимо реализовать класс для оптимизации коэффициентов линейной регрессии МНК.\n",
    "Подразумевается, что на вход алгоритм будет принимать следующие параметры:\n",
    "\n",
    "- 2 pandas датафрейма **samples** и **targets**, содержащих матрицу объектов и ветор ответов соответственно\n",
    "- значение **learning rate**, который корректирует длину вектора-градиента (чтобы он не взорвался)\n",
    "- значение **threshold**'а для критерия останова (когда мы считаем, что мы сошлись к оптимуму)\n",
    "- параметр **copy**, который позволяет либо делать изменения in-place в датафрейме, подающимся в класс, если изменения матрицы объектов в принципе при обучении имеются. Или же копировать объект при инициализации класса и возвращать новый объект, если требуется.\n",
    "\n",
    "Он будет состоять из следующих важных компонент-методов:\n",
    "\n",
    "- **add_constant_feature**: добавляет колонку с названием *constant* из единичек к переданному датафрейму **samples**. Это позволяет оценить свободный коэффициент $\\beta_0$.\n",
    "\n",
    "- **calculate_mse_loss**: вычисляет при текущих весах **self.beta** значение среднеквадратической ошибки.\n",
    "\n",
    "- **calculate_gradient**: вычисляет при текущих весах вектор-градиент по функционалу.\n",
    "\n",
    "- **iteration**: производит итерацию градиентного спуска, то есть обновляет веса модели, в соответствии с установленным **learning_rate = $\\eta$**: $\\beta^{(n+1)} = \\beta^{(n)} - \\eta \\cdot \\nabla Q(\\beta^{(n)})$\n",
    "\n",
    "- **learn**: производит итерации обучения до того момента, пока не сработает критерий останова обучения. В этот раз критерием останова будет следующее событие: во время крайней итерации изменение в функционале качества модели составило значение меньшее, чем **self.threshold**. Иными словами, $|Q(\\beta^{(n)}) - Q(\\beta^{(n+1)})| < threshold$.\n",
    "\n",
    "P.S. установите в **__init__** аттрибут экземпляра с названием **iteration_loss_dict**, который будет устроен следующим образом: на каждой итерации мы будем добавлять в словарь пару ключ-значение, где ключем будет номер итерации $n$, а значением - среднеквадратическая ошибка в точке $\\beta^{(n)}$. Это пригодится нам в будущем для визуализации."
   ]
  },
  {
   "cell_type": "markdown",
   "metadata": {},
   "source": [
    "### Hint: пример вычисления производной"
   ]
  },
  {
   "cell_type": "markdown",
   "metadata": {},
   "source": [
    "$$\n",
    "Q(a, X) = \\frac{1}{N}\\cdot\\sum_{i=1}^N (\\beta_1 \\cdot d_{i1} + ... + \\beta_n \\cdot d_{in} - y_i)^2\n",
    "$$\n",
    "\n",
    "Выше - минимизируемая функция. Она зависит от n переменных: $\\beta_1, ..., \\beta_n$. Вектор-градиент - матрица с одной строчкой, состоящей из производных 1го порядка по всем переменным.\n",
    "\n",
    "$$\n",
    "\\nabla Q(a, X) = (Q'_{\\beta_1} \\;\\;\\; Q'_{\\beta_2} \\;\\;\\; ... \\;\\;\\; Q'_{\\beta_{n-1}}  \\;\\;\\;  Q'_{\\beta_n})\n",
    "$$\n",
    "\n",
    "Пример вычисления производной по первой переменной:\n",
    "\n",
    "$$\n",
    "Q'_{\\beta_1} = \\frac{2}{N} \\cdot \\sum_{i=1}^N d_{i1} (\\beta_1 \\cdot d_{i1} + ... + \\beta_{n} \\cdot d_{in} - y_i)\n",
    "$$\n",
    "\n",
    "Скажем, для нашего датасета X, Y вычислим эту саму производную при начальных единичных коэффициентах $\\beta_{start} = (1 \\;\\;\\; 1 \\;\\;\\; ...)$"
   ]
  },
  {
   "cell_type": "markdown",
   "metadata": {},
   "source": [
    "Получим для каждого объекта в начале выражение из скобочек: \n",
    "$$\n",
    "\\beta_1 \\cdot d_{i1} + ... + \\beta_{n} \\cdot d_{in} - y_i\n",
    "$$"
   ]
  },
  {
   "cell_type": "code",
   "execution_count": 5,
   "metadata": {},
   "outputs": [],
   "source": [
    "### Инициализируем точку для коэффициентов в виде вектора из единичек\n",
    "initial_betas = np.ones(X.shape[1])\n",
    "\n",
    "### Получим выражение выше для каждого объекта. \n",
    "### Для этого скалярно перемножим строчки из X на наши beta\n",
    "\n",
    "scalar_value = np.dot(X, initial_betas.reshape(-1, 1)).ravel()\n",
    "scalar_value = (scalar_value - Y).values"
   ]
  },
  {
   "cell_type": "markdown",
   "metadata": {},
   "source": [
    "Теперь полученное значение для каждого объекта умножим на соответствующее значение признака $d_1$:\n",
    "\n",
    "$$\n",
    "d_{i1} \\cdot (\\beta_1 \\cdot d_{i1} + ... + \\beta_{n} \\cdot d_{in} - y_i)\n",
    "$$"
   ]
  },
  {
   "cell_type": "code",
   "execution_count": 6,
   "metadata": {
    "tags": []
   },
   "outputs": [],
   "source": [
    "### Возьмем столбик со значениями 1 признака\n",
    "\n",
    "d_i1 = X.values[:, 0]\n",
    "\n",
    "### Умножим каждый объект на соответствующее значение признака\n",
    "scalar_value = scalar_value * d_i1"
   ]
  },
  {
   "cell_type": "code",
   "execution_count": 7,
   "metadata": {},
   "outputs": [
    {
     "data": {
      "text/plain": [
       "-27.62384887912409"
      ]
     },
     "execution_count": 7,
     "metadata": {},
     "output_type": "execute_result"
    }
   ],
   "source": [
    "### Наконец, умножим все на 2 и усреднимся, \n",
    "### чтобы получить значение производной по первому параметру\n",
    "\n",
    "2 * np.mean(scalar_value)"
   ]
  },
  {
   "cell_type": "code",
   "execution_count": 8,
   "id": "bebd4f43",
   "metadata": {},
   "outputs": [],
   "source": [
    "vec = np.zeros(X.shape[1])\n",
    "\n",
    "\n",
    "for i in range(X.shape[1]):\n",
    "    scalar_value = np.dot(X, initial_betas.reshape(-1, 1)).ravel()\n",
    "    scalar_value = (scalar_value - Y).values\n",
    "\n",
    "    d_i1 = X.values[:, i]\n",
    "\n",
    "    ### Умножим каждый объект на соответствующее значение признака\n",
    "    scalar_value = scalar_value * d_i1\n",
    "\n",
    "    vec[i] = 2 * np.mean(scalar_value)"
   ]
  },
  {
   "cell_type": "code",
   "execution_count": 9,
   "id": "bcfa910d",
   "metadata": {},
   "outputs": [
    {
     "data": {
      "text/plain": [
       "array([-27.62384888, -27.04925634, -25.57343426, -25.90049524,\n",
       "       -26.6611478 , -28.01047838, -27.42529253, -28.58300732,\n",
       "       -27.41996431, -27.79326201])"
      ]
     },
     "execution_count": 9,
     "metadata": {},
     "output_type": "execute_result"
    }
   ],
   "source": [
    "vec"
   ]
  },
  {
   "cell_type": "code",
   "execution_count": 10,
   "id": "797fe183",
   "metadata": {},
   "outputs": [
    {
     "data": {
      "text/plain": [
       "86.07226047863446"
      ]
     },
     "execution_count": 10,
     "metadata": {},
     "output_type": "execute_result"
    }
   ],
   "source": [
    "np.linalg.norm(vec)"
   ]
  },
  {
   "cell_type": "code",
   "execution_count": 11,
   "id": "c7f905e2",
   "metadata": {},
   "outputs": [],
   "source": [
    "l = {}\n",
    "l['1'] = '2'"
   ]
  },
  {
   "cell_type": "markdown",
   "metadata": {},
   "source": [
    "### Эта логика поможем Вам при реализации класса!"
   ]
  },
  {
   "cell_type": "markdown",
   "metadata": {},
   "source": [
    "learn(self)\n",
    "\n",
    "метод возвращает итоговую среднеквадратическую ошибку.\n",
    "метод итеративно вычисляет среднеквадратическую ошибку и вектор-градиент. номер итерации и MSE записываются в словарь *iteration_loss_dict*. критерий останова срабатывает тогда, когда абсолютное значение разницы двух последних MSE меньше *self.threshold*."
   ]
  },
  {
   "cell_type": "code",
   "execution_count": 36,
   "metadata": {},
   "outputs": [],
   "source": [
    "class GradientDescentMse:\n",
    "    \"\"\"\n",
    "    Базовый класс для реализации градиентного спуска в задаче линейной МНК регрессии \n",
    "    \"\"\"\n",
    "\n",
    "    def __init__(self, samples: pd.DataFrame, targets: pd.DataFrame,\n",
    "                 learning_rate: float = 1e-3, threshold = 1e-6, copy: bool = True):\n",
    "        \"\"\"\n",
    "        self.samples - матрица признаков\n",
    "        self.targets - вектор таргетов\n",
    "        self.beta - вектор из изначальными весами модели == коэффициентами бета (состоит из единиц)\n",
    "        self.learning_rate - параметр *learning_rate* для корректировки нормы градиента\n",
    "        self.threshold - величина, меньше которой изменение в loss-функции означает остановку градиентного спуска\n",
    "        iteration_loss_dict - словарь, который будет хранить номер итерации и соответствующую MSE\n",
    "        copy: копирование матрицы признаков или создание изменения in-place\n",
    "        \"\"\"\n",
    "        ### Your code is here\n",
    "\n",
    "        self.targets = targets\n",
    "        self.learning_rate = learning_rate\n",
    "        self.threshold = threshold\n",
    "\n",
    "        \n",
    "        if copy:\n",
    "            self.samples = samples.copy()\n",
    "        else:\n",
    "            self.samples = samples\n",
    "        \n",
    "        self.beta = np.ones(self.samples.shape[1])\n",
    "\n",
    "        self.iteration_loss_dict = []\n",
    "\n",
    "        \n",
    "    def add_constant_feature(self):\n",
    "        \"\"\"\n",
    "        Метод для создания константной фичи в матрице объектов samples\n",
    "        Метод создает колонку с константным признаком (interсept) в матрице признаков.\n",
    "        Hint: так как количество признаков увеличилось на одну, не забудьте дополнить вектор с изначальными весами модели!\n",
    "        \"\"\"\n",
    "        ### Your code is here\n",
    "        self.samples['interсept'] = 1\n",
    "        self.beta = np.append(self.beta,1)\n",
    "        \n",
    "    def calculate_mse_loss(self) -> float:\n",
    "        \"\"\"\n",
    "        Метод для расчета среднеквадратической ошибки\n",
    "        \n",
    "        :return: среднеквадратическая ошибка при текущих весах модели : float\n",
    "        \"\"\"\n",
    "        ### Your code is here\n",
    "        predictions = 0\n",
    "\n",
    "        for i in range(1,11):\n",
    "            predictions += self.samples[f'feature_{i}'] * self.beta[i-1]\n",
    "\n",
    "\n",
    "        return ((predictions - self.targets)**2).sum() / len(predictions)\n",
    "\n",
    "    def calculate_gradient(self) -> np.ndarray:\n",
    "        \"\"\"\n",
    "        Метод для вычисления вектора-градиента\n",
    "        Метод возвращает вектор-градиент, содержащий производные по каждому признаку.\n",
    "        Сначала матрица признаков скалярно перемножается на вектор self.beta, и из каждой колонки\n",
    "        полученной матрицы вычитается вектор таргетов. Затем полученная матрица скалярно умножается на матрицу признаков.\n",
    "        Наконец, итоговая матрица умножается на 2 и усредняется по каждому признаку.\n",
    "        \n",
    "        :return: вектор-градиент, т.е. массив, содержащий соответствующее количество производных по каждой переменной : np.ndarray\n",
    "        \"\"\"\n",
    "        ### Your code is here\n",
    "        \n",
    "        vec = np.zeros(self.samples.shape[1])\n",
    "\n",
    "\n",
    "        for i in range(self.samples.shape[1]):\n",
    "            scalar_value = np.dot(self.samples, self.beta.reshape(-1, 1)).ravel()\n",
    "            scalar_value = (scalar_value - self.targets).values\n",
    "\n",
    "            d_i = self.samples.values[:, i]\n",
    "\n",
    "            ### Умножим каждый объект на соответствующее значение признака\n",
    "            scalar_value = scalar_value * d_i\n",
    "\n",
    "            vec[i] = 2 * np.mean(scalar_value)\n",
    "        \n",
    "        return vec\n",
    "        \n",
    "    \n",
    "    \n",
    "    def iteration(self):\n",
    "        \"\"\"\n",
    "        Обновляем веса модели в соответствии с текущим вектором-градиентом\n",
    "        \"\"\"\n",
    "        ### Your code is here\n",
    "\n",
    "        self.beta = self.beta - self.learning_rate * self.calculate_gradient()\n",
    "\n",
    "        \n",
    "    def learn(self):\n",
    "        \"\"\"\n",
    "        Итеративное обучение весов модели до срабатывания критерия останова\n",
    "        Запись mse и номера итерации в iteration_loss_dict\n",
    "        \n",
    "        Описание алгоритма работы для изменения бет:\n",
    "            Фиксируем текущие beta -> start_betas\n",
    "            Делаем шаг градиентного спуска\n",
    "            Записываем новые beta -> new_betas\n",
    "            Пока |L(new_beta) - L(start_beta)| >= threshold:\n",
    "                Повторяем первые 3 шага\n",
    "                \n",
    "        Описание алгоритма работы для изменения функции потерь:\n",
    "            Фиксируем текущие mse -> previous_mse\n",
    "            Делаем шаг градиентного спуска\n",
    "            Записываем новые mse -> next_mse\n",
    "            Пока |(previous_mse) - (next_mse)| >= threshold:\n",
    "                Повторяем первые 3 шага\n",
    "        \"\"\"\n",
    "        ### Your code is here\n",
    "\n",
    "        start_betas = self.beta\n",
    "        it = 0\n",
    "        self.iteration_loss_dict.append(self.calculate_mse_loss())\n",
    "\n",
    "\n",
    "        self.iteration()\n",
    "\n",
    "        new_betas = self.beta     \n",
    "\n",
    "        while abs(np.linalg.norm(new_betas) - np.linalg.norm(start_betas)) >= self.threshold:\n",
    "            start_betas = self.beta\n",
    "            it+=1\n",
    "            self.iteration_loss_dict.append(self.calculate_mse_loss())\n",
    "\n",
    "\n",
    "            self.iteration()\n",
    "\n",
    "            new_betas = self.beta \n"
   ]
  },
  {
   "cell_type": "markdown",
   "metadata": {},
   "source": [
    "Обучим коэффициенты линейной модели с помощью реализованного нами градиентного спуска, не забыв добавить свободную переменную. Получились ли такие же коэффициенты, как и при использовании **LinearRegression** из **sklearn**? Если нет, то почему они отличаются, на Ваш взгляд, и сильно ли?"
   ]
  },
  {
   "cell_type": "code",
   "execution_count": 37,
   "id": "fa394954",
   "metadata": {},
   "outputs": [],
   "source": [
    "GD = GradientDescentMse(samples=X, targets=Y)\n",
    "GD.add_constant_feature()\n",
    "GD.learn()"
   ]
  },
  {
   "cell_type": "code",
   "execution_count": 42,
   "id": "1a2a69b9",
   "metadata": {},
   "outputs": [
    {
     "name": "stdout",
     "output_type": "stream",
     "text": [
      "thr =  0.01 lr =  0.1\n",
      "44.03757754455274\n",
      "thr =  0.01 lr =  0.05\n",
      "71.3684554730107\n",
      "thr =  0.01 lr =  0.01\n",
      "75.01233591592933\n",
      "thr =  0.01 lr =  0.005\n",
      "78.59834464017842\n",
      "thr =  0.01 lr =  0.001\n",
      "108.4955757121026\n",
      "thr =  0.001 lr =  0.1\n",
      "25.396520928262213\n",
      "thr =  0.001 lr =  0.05\n",
      "30.103700482050932\n",
      "thr =  0.001 lr =  0.01\n",
      "43.98913033410496\n",
      "thr =  0.001 lr =  0.005\n",
      "70.7530376990225\n",
      "thr =  0.001 lr =  0.001\n",
      "74.89598130789891\n",
      "thr =  0.0001 lr =  0.1\n",
      "19.69643466526202\n",
      "thr =  0.0001 lr =  0.05\n",
      "20.291805380048668\n",
      "thr =  0.0001 lr =  0.01\n",
      "25.396546528061606\n",
      "thr =  0.0001 lr =  0.005\n",
      "30.08571890499233\n",
      "thr =  0.0001 lr =  0.001\n",
      "43.98855330064697\n",
      "thr =  1e-05 lr =  0.1\n",
      "19.18074194010629\n",
      "thr =  1e-05 lr =  0.05\n",
      "19.237204724859453\n",
      "thr =  1e-05 lr =  0.01\n",
      "19.697636897384548\n",
      "thr =  1e-05 lr =  0.005\n",
      "20.29381838883522\n",
      "thr =  1e-05 lr =  0.001\n",
      "25.395294609743136\n"
     ]
    }
   ],
   "source": [
    "for thr in [1e-2, 1e-3, 1e-4, 1e-5]:\n",
    "    for lr in [1e-1, 5e-2, 1e-2, 5e-3, 1e-3]:\n",
    "        GD = GradientDescentMse(samples=X, targets=Y, learning_rate=lr, threshold=thr)\n",
    "        GD.add_constant_feature()\n",
    "        GD.learn()\n",
    "        print('thr = ', thr, 'lr = ', lr)\n",
    "        print(GD.iteration_loss_dict[-1])"
   ]
  },
  {
   "cell_type": "code",
   "execution_count": null,
   "metadata": {},
   "outputs": [
    {
     "name": "stdout",
     "output_type": "stream",
     "text": [
      "Веса модели при переменных d0, d1, ..., d10 равны соответственно: \n",
      "\n",
      "[0.98621975 1.98851366 2.98582773 3.98555466 4.987962   5.98761809\n",
      " 6.98789941 7.98916628 8.98590273 9.98408846 4.43972972]\n"
     ]
    }
   ],
   "source": [
    "print('Веса модели при переменных d0, d1, ..., d10 равны соответственно: \\n\\n' + str(GD.beta))"
   ]
  },
  {
   "cell_type": "markdown",
   "metadata": {},
   "source": [
    "Попробуйте теперь изменить значения **learning_rate** и/или **threshold**. Например, установите длину шага $\\eta = 1$. Что произошло и почему такое возможно?"
   ]
  },
  {
   "cell_type": "code",
   "execution_count": null,
   "metadata": {},
   "outputs": [
    {
     "name": "stdout",
     "output_type": "stream",
     "text": [
      "Веса модели при переменных d0, d1, ..., d10 равны соответственно: \n",
      "\n",
      "[3.43666192e+154 3.35607428e+154 3.14598507e+154 3.16513843e+154\n",
      " 3.23477556e+154 3.38684047e+154 3.29261002e+154 3.41297375e+154\n",
      " 3.24631009e+154 3.26735784e+154 6.48404911e+154]\n"
     ]
    },
    {
     "name": "stderr",
     "output_type": "stream",
     "text": [
      "/var/folders/rz/lhd23qs9359bzy8d0np6pdkh0000gn/T/ipykernel_49004/1232569629.py:127: RuntimeWarning: invalid value encountered in double_scalars\n",
      "  while abs(np.linalg.norm(new_betas) - np.linalg.norm(start_betas)) >= self.threshold:\n"
     ]
    }
   ],
   "source": [
    "### Your code is here\n",
    "GD = GradientDescentMse(samples=X, targets=Y, learning_rate=1)\n",
    "GD.add_constant_feature()\n",
    "GD.learn()\n",
    "print('Веса модели при переменных d0, d1, ..., d10 равны соответственно: \\n\\n' + str(GD.beta))"
   ]
  },
  {
   "cell_type": "markdown",
   "metadata": {},
   "source": [
    "В машинном обучении зачастую исследуют так называемые **траектории обучения** (или **learning paths**). Это графики, показывающие, как во время обучения при каждой следующей итерации изменялось значение минимизируемого функционала. Постройте такие траектории для различных **learning rate**'ов и **threshold**'ов. Советуем использовать для этого разобранный на занятиях **add_subplot** метод. \n",
    "\n",
    "Возьмите следующие **threshold**'ы: 1e-2, 1e-3, 1e-4, 1e-5\n",
    "\n",
    "И следующие значения **learning rate**'а: 1e-1, 5e-2, 1e-2, 5e-3, 1e-3\n",
    "\n",
    "У вас должен получиться примерно такой график (см. ниже, значения среднеквадратической ошибки мы намеренно замазали оранжевыми квадратиками, чтобы не спойлерить вам результаты).\n",
    "\n",
    "Как и подобает хорошим Data Scientist'ам, не забывайте подписывать графики, оси, а так же делать элементы ваших визуализаций читаемыми и видимыми. Советуем пересмотреть методы и параметры форматирования из лекции.\n",
    "\n",
    "При какой комбинации **threshold** - **learning rate** из возможных предложенных выше, получается достигнуть меньшего значения нашей минимизируемой функции? Запишите каждой из значений в легенде на графиках.\n"
   ]
  },
  {
   "cell_type": "code",
   "execution_count": null,
   "metadata": {
    "tags": []
   },
   "outputs": [],
   "source": [
    "### Your code is here\n",
    "import matplotlib.pyplot as plt"
   ]
  },
  {
   "cell_type": "code",
   "execution_count": null,
   "metadata": {},
   "outputs": [],
   "source": [
    "plt.plot(history.history['loss'], label='Training loss')\n",
    "plt.plot(history.history['val_loss'], label='Validation loss')\n",
    "plt.legend()"
   ]
  }
 ],
 "metadata": {
  "interpreter": {
   "hash": "6e546691516807557703c084d579030abf938edf2df8fd39f76172b7e3d0acce"
  },
  "kernelspec": {
   "display_name": "Python 3.8.15",
   "language": "python",
   "name": "python3"
  },
  "language_info": {
   "codemirror_mode": {
    "name": "ipython",
    "version": 3
   },
   "file_extension": ".py",
   "mimetype": "text/x-python",
   "name": "python",
   "nbconvert_exporter": "python",
   "pygments_lexer": "ipython3",
   "version": "3.8.15"
  }
 },
 "nbformat": 4,
 "nbformat_minor": 5
}
